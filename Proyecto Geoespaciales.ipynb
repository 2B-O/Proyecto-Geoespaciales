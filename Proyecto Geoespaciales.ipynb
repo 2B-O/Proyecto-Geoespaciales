{
 "cells": [
  {
   "attachments": {},
   "cell_type": "markdown",
   "metadata": {
    "id": "FHZSGSrJWFrZ"
   },
   "source": [
    "# <img style=\"float: left; padding: 0px 10px 0px 0px;\" src=\"https://upload.wikimedia.org/wikipedia/commons/thumb/8/84/Escudo_de_la_Pontificia_Universidad_Cat%C3%B3lica_de_Chile.svg/1920px-Escudo_de_la_Pontificia_Universidad_Cat%C3%B3lica_de_Chile.svg.png\"  width=\"80\" /> IMT2118 - Ciencia de Datos Geoespaciales\n",
    "**Pontificia Universidad Católica de Chile**<br>\n",
    "**Semestre 2024-1**<br>\n",
    "**Profesora:** Paula Aguirre <br>\n",
    "**Ayudante:** Diego Pizarro <br>\n",
    "**Integrantes:** Alu Palu,Bastian Baez Oses\n",
    "<br>\n",
    "\n",
    "\n",
    "\n",
    "\n",
    "\n",
    "---"
   ]
  },
  {
   "attachments": {},
   "cell_type": "markdown",
   "metadata": {},
   "source": []
  },
  {
   "cell_type": "code",
   "execution_count": null,
   "metadata": {},
   "outputs": [],
   "source": [
    "import geopandas as gpd\n",
    "import geemap\n",
    "import ee\n",
    "import numpy as np\n",
    "import matplotlib.pyplot as plt\n",
    "import matplotlib.colors as mcolors\n",
    "import imageio\n",
    "import pandas as pd\n",
    "import folium"
   ]
  },
  {
   "cell_type": "code",
   "execution_count": null,
   "metadata": {},
   "outputs": [],
   "source": [
    "#Inicializamos GEE\n",
    "ee.Authenticate();\n",
    "ee.Initialize(project='ee-bastianbaezos') #use su código de proyecto"
   ]
  },
  {
   "cell_type": "code",
   "execution_count": null,
   "metadata": {},
   "outputs": [],
   "source": [
    "def getAOI(dat,crs=4326):\n",
    "    aoi_coords = list(dat.geometry.unary_union.exterior.coords)\n",
    "    aoi = ee.Geometry.Polygon(aoi_coords)\n",
    "    return aoi\n",
    "\n",
    "# La siguiente función fue sacada de:\n",
    "# https://github.com/gee-community/geemap/issues/1095#issuecomment-1151812523\n",
    "def fmask(image):\n",
    "    # see https://developers.google.com/earth-engine/datasets/catalog/LANDSAT_LC09_C02_T1_L2\n",
    "    # Bit 0 - Fill\n",
    "    # Bit 1 - Dilated Cloud\n",
    "    # Bit 2 - Cirrus\n",
    "    # Bit 3 - Cloud\n",
    "    # Bit 4 - Cloud Shadow\n",
    "    qaMask = image.select('QA_PIXEL').bitwiseAnd(int('11111', 2)).eq(0)\n",
    "\n",
    "    # Apply the scaling factors to the appropriate bands.\n",
    "    opticalBands = image.select('SR_B.').multiply(0.0000275).add(-0.2)\n",
    "\n",
    "    # Replace the original bands with the scaled ones and apply the masks.\n",
    "    return image.addBands(opticalBands, None, True).updateMask(qaMask)\n",
    "\n",
    "def get_images(year_init, year_end, aoi):\n",
    "\n",
    "    # Funcion creada usando de base la de la ayudantia 4\n",
    "    years = list(range(year_init, year_end + 1))\n",
    "    annual_imgs = {year: '' for year in years}\n",
    "\n",
    "    for year in years:\n",
    "        startDate = f'{year}-01-01'\n",
    "        endDate = f'{year}-12-31'\n",
    "\n",
    "        sentinelImageCollection = ee.ImageCollection('LANDSAT/LE07/C02/T1_L2').filterBounds(aoi).filterDate(startDate, endDate)\n",
    "\n",
    "        # Aplicamos fmask\n",
    "        sentinelImageCollection = sentinelImageCollection.map(fmask)\n",
    "\n",
    "        bandas = ['SR_B1', 'SR_B2', 'SR_B3', 'SR_B4', 'SR_B5', 'SR_B7']\n",
    "\n",
    "        # Seleccionamos las bandas de interés\n",
    "        sentinelImageCollection = sentinelImageCollection.select(bandas)\n",
    "\n",
    "        # Geomedian ee.Reducer.geometricMedian()\n",
    "        image = sentinelImageCollection.reduce(ee.Reducer.geometricMedian(numX=6)).clip(aoi)\n",
    "\n",
    "        # Cambiar nombre de las bandas a \"bandas\"\n",
    "        image = image.rename(bandas)\n",
    "\n",
    "        # Agregar imagen al diccionario\n",
    "        annual_imgs[year] = image\n",
    "\n",
    "    return annual_imgs"
   ]
  }
 ],
 "metadata": {
  "colab": {
   "name": "IMT2200_Clase7-API.ipynb",
   "provenance": []
  },
  "kernelspec": {
   "display_name": "Python 3.10.4 64-bit",
   "language": "python",
   "name": "python3"
  },
  "language_info": {
   "codemirror_mode": {
    "name": "ipython",
    "version": 3
   },
   "file_extension": ".py",
   "mimetype": "text/x-python",
   "name": "python",
   "nbconvert_exporter": "python",
   "pygments_lexer": "ipython3",
   "version": "3.11.8"
  },
  "vscode": {
   "interpreter": {
    "hash": "2f24baa985b45180536e9a1117a4a9f82b206b14508f2deab8f13ae427f5aab5"
   }
  }
 },
 "nbformat": 4,
 "nbformat_minor": 1
}
