{
 "cells": [
  {
   "attachments": {},
   "cell_type": "markdown",
   "metadata": {
    "id": "FHZSGSrJWFrZ"
   },
   "source": [
    "# <img style=\"float: left; padding: 0px 10px 0px 0px;\" src=\"https://upload.wikimedia.org/wikipedia/commons/thumb/8/84/Escudo_de_la_Pontificia_Universidad_Cat%C3%B3lica_de_Chile.svg/1920px-Escudo_de_la_Pontificia_Universidad_Cat%C3%B3lica_de_Chile.svg.png\"  width=\"80\" /> IMT2118 - Ciencia de Datos Geoespaciales\n",
    "**Pontificia Universidad Católica de Chile**<br>\n",
    "**Semestre 2024-1**<br>\n",
    "**Profesora:** Paula Aguirre <br>\n",
    "**Ayudante:** Diego Pizarro <br>\n",
    "**Integrantes:** Alu Palu,Bastian Baez Oses\n",
    "<br>\n",
    "\n",
    "\n",
    "\n",
    "\n",
    "\n",
    "---"
   ]
  },
  {
   "attachments": {},
   "cell_type": "markdown",
   "metadata": {},
   "source": []
  },
  {
   "cell_type": "code",
   "execution_count": null,
   "metadata": {},
   "outputs": [],
   "source": []
  }
 ],
 "metadata": {
  "colab": {
   "name": "IMT2200_Clase7-API.ipynb",
   "provenance": []
  },
  "kernelspec": {
   "display_name": "Python 3.10.4 64-bit",
   "language": "python",
   "name": "python3"
  },
  "language_info": {
   "codemirror_mode": {
    "name": "ipython",
    "version": 3
   },
   "file_extension": ".py",
   "mimetype": "text/x-python",
   "name": "python",
   "nbconvert_exporter": "python",
   "pygments_lexer": "ipython3",
   "version": "3.11.8"
  },
  "vscode": {
   "interpreter": {
    "hash": "2f24baa985b45180536e9a1117a4a9f82b206b14508f2deab8f13ae427f5aab5"
   }
  }
 },
 "nbformat": 4,
 "nbformat_minor": 1
}
